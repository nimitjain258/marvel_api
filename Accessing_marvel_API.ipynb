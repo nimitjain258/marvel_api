{
 "cells": [
  {
   "cell_type": "markdown",
   "id": "187ca6f6",
   "metadata": {},
   "source": [
    "\n",
    "## Connecting to Marvel's API*"
   ]
  },
  {
   "cell_type": "code",
   "execution_count": 1,
   "id": "75c95ca5",
   "metadata": {},
   "outputs": [],
   "source": [
    "# Import several libraries that will be used later\n",
    "\n",
    "import hashlib\n",
    "import pandas as pd\n",
    "import requests\n",
    "import time"
   ]
  },
  {
   "cell_type": "markdown",
   "id": "4f401329",
   "metadata": {},
   "source": [
    "## Connecting to the Marvel API"
   ]
  },
  {
   "cell_type": "code",
   "execution_count": 2,
   "id": "0c43c1df",
   "metadata": {},
   "outputs": [],
   "source": [
    "pub_api_key = \"083374c8f8fd31f9528c00e4fe42a485\"\n",
    "priv_api_key = \"ea6ee0d1facc073193349ace751e1d5da7c2bb8d\""
   ]
  },
  {
   "cell_type": "code",
   "execution_count": 3,
   "id": "801209cf",
   "metadata": {},
   "outputs": [],
   "source": [
    "ts = str(time.time())"
   ]
  },
  {
   "cell_type": "code",
   "execution_count": 4,
   "id": "fc61fa4c",
   "metadata": {},
   "outputs": [],
   "source": [
    "hash_val = (ts + priv_api_key + pub_api_key).encode()\n",
    "md5_hash = hashlib.md5(hash_val).hexdigest()"
   ]
  },
  {
   "cell_type": "markdown",
   "id": "fff5a04e",
   "metadata": {},
   "source": [
    "### 1) Provide a list of 30 Marvel characters"
   ]
  },
  {
   "cell_type": "code",
   "execution_count": 5,
   "id": "cfef527c",
   "metadata": {},
   "outputs": [],
   "source": [
    "characters_url = \"http://gateway.marvel.com/v1/public/characters\"\n",
    "\n",
    "characters_params = {\n",
    "    \"apikey\": pub_api_key,\n",
    "    \"ts\": ts,\n",
    "    \"hash\": md5_hash,\n",
    "    \"limit\": 30\n",
    "}\n",
    "\n",
    "char_response = requests.get(url = characters_url, params = characters_params).json()"
   ]
  },
  {
   "cell_type": "code",
   "execution_count": 6,
   "id": "625f7645",
   "metadata": {},
   "outputs": [],
   "source": [
    "char_data = dict(char_response)[\"data\"][\"results\"]"
   ]
  },
  {
   "cell_type": "code",
   "execution_count": 7,
   "id": "3c16ef6e",
   "metadata": {},
   "outputs": [
    {
     "data": {
      "text/plain": [
       "['3-D Man',\n",
       " 'A-Bomb (HAS)',\n",
       " 'A.I.M.',\n",
       " 'Aaron Stack',\n",
       " 'Abomination (Emil Blonsky)',\n",
       " 'Abomination (Ultimate)',\n",
       " 'Absorbing Man',\n",
       " 'Abyss',\n",
       " 'Abyss (Age of Apocalypse)',\n",
       " 'Adam Destine',\n",
       " 'Adam Warlock',\n",
       " 'Aegis (Trey Rollins)',\n",
       " 'Aero (Aero)',\n",
       " 'Agatha Harkness',\n",
       " 'Agent Brand',\n",
       " 'Agent X (Nijo)',\n",
       " 'Agent Zero',\n",
       " 'Agents of Atlas',\n",
       " 'Aginar',\n",
       " 'Air-Walker (Gabriel Lan)',\n",
       " 'Ajak',\n",
       " 'Ajaxis',\n",
       " 'Akemi',\n",
       " 'Alain',\n",
       " 'Albert Cleary',\n",
       " 'Albion',\n",
       " 'Alex Power',\n",
       " 'Alex Wilder',\n",
       " 'Alexa Mendez',\n",
       " 'Alexander Pierce']"
      ]
     },
     "execution_count": 7,
     "metadata": {},
     "output_type": "execute_result"
    }
   ],
   "source": [
    "character_names = []\n",
    "\n",
    "for hero in char_data:\n",
    "    character_names.append(hero[\"name\"])\n",
    "    \n",
    "character_names"
   ]
  },
  {
   "cell_type": "markdown",
   "id": "acd0fbb9",
   "metadata": {},
   "source": [
    "### 2) Retrieve the Ids for all the characters in your list (in str form)"
   ]
  },
  {
   "cell_type": "code",
   "execution_count": 8,
   "id": "9636facf",
   "metadata": {},
   "outputs": [
    {
     "data": {
      "text/plain": [
       "['1011334',\n",
       " '1017100',\n",
       " '1009144',\n",
       " '1010699',\n",
       " '1009146',\n",
       " '1016823',\n",
       " '1009148',\n",
       " '1009149',\n",
       " '1010903',\n",
       " '1011266',\n",
       " '1010354',\n",
       " '1010846',\n",
       " '1017851',\n",
       " '1012717',\n",
       " '1011297',\n",
       " '1011031',\n",
       " '1009150',\n",
       " '1011198',\n",
       " '1011175',\n",
       " '1011136',\n",
       " '1011176',\n",
       " '1010870',\n",
       " '1011194',\n",
       " '1011170',\n",
       " '1009240',\n",
       " '1011120',\n",
       " '1010836',\n",
       " '1010755',\n",
       " '1011214',\n",
       " '1009497']"
      ]
     },
     "execution_count": 8,
     "metadata": {},
     "output_type": "execute_result"
    }
   ],
   "source": [
    "character_ids = []\n",
    "\n",
    "for hero in char_data:\n",
    "    character_ids.append(str(hero[\"id\"]))\n",
    "    \n",
    "character_ids"
   ]
  },
  {
   "cell_type": "markdown",
   "id": "c01433ce",
   "metadata": {},
   "source": [
    "### 3) Retrieve the total number of Events available for all the characters in your list (in integer form)"
   ]
  },
  {
   "cell_type": "code",
   "execution_count": null,
   "id": "0bf29d9e",
   "metadata": {},
   "outputs": [],
   "source": [
    "character_events_available = []\n",
    "\n",
    "for hero in char_data:\n",
    "    character_events_available.append(hero[\"events\"][\"available\"])\n",
    "    \n",
    "character_events_available"
   ]
  },
  {
   "cell_type": "markdown",
   "id": "24f372fc",
   "metadata": {},
   "source": [
    "### 4) Retrieve the total number of Series available for all the characters in your list  (in integer form)"
   ]
  },
  {
   "cell_type": "code",
   "execution_count": null,
   "id": "83d3e925",
   "metadata": {},
   "outputs": [],
   "source": [
    "character_series_available = []\n",
    "\n",
    "for hero in char_data:\n",
    "    character_series_available.append(hero[\"series\"][\"available\"])\n",
    "    \n",
    "character_series_available"
   ]
  },
  {
   "cell_type": "markdown",
   "id": "5f23bbe9",
   "metadata": {},
   "source": [
    "### 5) Retrieve the total number of Comics available for all the characters in your list (in integer form)"
   ]
  },
  {
   "cell_type": "code",
   "execution_count": null,
   "id": "66770e0c",
   "metadata": {},
   "outputs": [],
   "source": [
    "character_comics_available = []\n",
    "\n",
    "for hero in char_data:\n",
    "    character_comics_available.append(hero[\"comics\"][\"available\"])\n",
    "    \n",
    "character_comics_available"
   ]
  },
  {
   "cell_type": "markdown",
   "id": "0781b3ee",
   "metadata": {},
   "source": [
    "### 6) Retrieve the Price of the most expensive comic that the character was featured in for all the characters in your list (in float form and USD)"
   ]
  },
  {
   "cell_type": "code",
   "execution_count": null,
   "id": "a381ca03",
   "metadata": {},
   "outputs": [],
   "source": [
    "expensive_price = []\n",
    "\n",
    "for i in range(0,30):  \n",
    "    if character_comics_available[i] == 0:\n",
    "        expensive_price.append(0.0)\n",
    "                   \n",
    "    else:\n",
    "        url_price = 'http://gateway.marvel.com/v1/public/characters/' + character_ids[i] + '/comics'\n",
    "        offset = 0\n",
    "        num_comics = character_comics_available[i]\n",
    "        \n",
    "        price_info = []\n",
    "        prices = []\n",
    "        \n",
    "        while num_comics > 0:\n",
    "            params_price = {'apikey': pub_api_key, 'ts': ts, 'hash': md5_hash, 'limit': 100, 'offset': offset}\n",
    "            response6 = requests.get(url = url_price, params = params_price).json()\n",
    "            data6 = response6['data']['results']\n",
    "\n",
    "            for n in data6:\n",
    "                price_info.append(n['prices'])\n",
    "              \n",
    "                for x in price_info:\n",
    "                    for y in x:\n",
    "                        prices.append(y['price'])\n",
    "                            \n",
    "            offset = offset + 100\n",
    "            num_comics = num_comics - 100\n",
    "        \n",
    "        expensive_price.append(max(prices))\n",
    "                   \n",
    "\n",
    "expensive_price"
   ]
  },
  {
   "cell_type": "markdown",
   "id": "9e5f57f2",
   "metadata": {},
   "source": [
    "### 7) Store the data above in a pandas DataFrame called df containing exactly in the following columns: \n",
    "Character Name, Character ID, Total Available Events, Total Available Series, Total Available Comics, Price of the Most Expensive Comic. \n",
    "\n",
    "If a character is not featured in Events, Series or Comics the corresponding entry should be filled in with a None (of NoneType). If a character does not have a Price the corresponding entry should be filled in with a None (of NoneType)."
   ]
  },
  {
   "cell_type": "code",
   "execution_count": null,
   "id": "68e77122",
   "metadata": {},
   "outputs": [],
   "source": [
    "raw_data = {\n",
    "    \"Character Name\": character_names,\n",
    "    \"Character ID\": character_ids,\n",
    "    \"Total Available Events\": character_events_available,\n",
    "    \"Total Available Series\": character_series_available,\n",
    "    \"Total Available Comics\": character_comics_available,\n",
    "    \"Price of the Most Expensive Comic\": expensive_price\n",
    "}\n",
    "\n",
    "df = pd.DataFrame(raw_data)\n",
    "df.head()"
   ]
  },
  {
   "cell_type": "code",
   "execution_count": null,
   "id": "5d26f7d5",
   "metadata": {},
   "outputs": [],
   "source": [
    "df.replace(0, None, inplace = True)"
   ]
  },
  {
   "cell_type": "code",
   "execution_count": null,
   "id": "ada1e7d7",
   "metadata": {},
   "outputs": [],
   "source": [
    "df.head(10)"
   ]
  },
  {
   "cell_type": "code",
   "execution_count": null,
   "id": "97c05143",
   "metadata": {},
   "outputs": [],
   "source": [
    "df.dtypes"
   ]
  },
  {
   "cell_type": "code",
   "execution_count": null,
   "id": "3fbcc65b",
   "metadata": {},
   "outputs": [],
   "source": [
    "df = df.astype({\n",
    "    \"Total Available Events\": \"Int64\",\n",
    "    \"Total Available Series\": \"Int64\",\n",
    "    \"Total Available Comics\": \"Int64\",\n",
    "    \"Price of the Most Expensive Comic\": \"Float64\"\n",
    "})\n",
    "\n",
    "# Note, since the API outputs \"missing values\" as 0, they can be changed to None using replace. However, this \n",
    "# changes the data type of all columns to object. Best solution appears to be changing the \"None\" typed to pandas built\n",
    "# in \"NAType\" which allows the coexistence of Int64 and NAN ^^"
   ]
  },
  {
   "cell_type": "code",
   "execution_count": null,
   "id": "581feee0",
   "metadata": {},
   "outputs": [],
   "source": [
    "df.head(10)"
   ]
  },
  {
   "cell_type": "code",
   "execution_count": null,
   "id": "47bfadd5",
   "metadata": {},
   "outputs": [],
   "source": [
    "df.dtypes"
   ]
  },
  {
   "cell_type": "code",
   "execution_count": null,
   "id": "884ea014",
   "metadata": {},
   "outputs": [],
   "source": [
    "df.to_csv(\"data.csv\", index = False)"
   ]
  },
  {
   "cell_type": "markdown",
   "id": "dd5e41aa",
   "metadata": {},
   "source": [
    "     "
   ]
  },
  {
   "cell_type": "markdown",
   "id": "e18649c0",
   "metadata": {},
   "source": [
    "\n",
    "## Creating our own API*"
   ]
  },
  {
   "cell_type": "markdown",
   "id": "37728443",
   "metadata": {},
   "source": [
    "This A3 REST API allows to interact with the ```data.csv``` dataset, retrieving data from it, creating new entries or deleting existing data. For these last two actions though you will need an Authentification. \n",
    "\n",
    "## 1. How to access this API?\n",
    "\n",
    "Fot the A3 API to work you will need to execute the code on the `CC_Assignment_1_Part_2.py` .py file.\n",
    "\n",
    "You can do this either by openning a new terminal window and launching the script by running `CC_Assignment_1_Part_2.py`. (CHANGE NAME), or by creating a jupyter notebook and copy pasting the code on the .py file to run it.\n",
    "\n",
    "To be able to run such code, you will need to have previously installed  Python's ```flask```, ```flask_restful```, ```flask_jwt_extended```, ```flask_bcrypt``` and ```beautifulsoup4``` libraries. You can do so by uncommenting the following cells."
   ]
  },
  {
   "cell_type": "code",
   "execution_count": 4,
   "id": "82a5107e",
   "metadata": {},
   "outputs": [],
   "source": [
    "#pip install beautifulsoup4"
   ]
  },
  {
   "cell_type": "code",
   "execution_count": 6,
   "id": "edd6f279",
   "metadata": {},
   "outputs": [],
   "source": [
    "#pip install flask_bcrypt"
   ]
  },
  {
   "cell_type": "code",
   "execution_count": 5,
   "id": "c12dd3ab",
   "metadata": {},
   "outputs": [],
   "source": [
    "#pip install flask_jwt_extended"
   ]
  },
  {
   "cell_type": "code",
   "execution_count": 1,
   "id": "a01979dd",
   "metadata": {},
   "outputs": [],
   "source": [
    "#pip install flask"
   ]
  },
  {
   "cell_type": "code",
   "execution_count": 2,
   "id": "f97ea954",
   "metadata": {},
   "outputs": [],
   "source": [
    "#pip install flask_restful"
   ]
  },
  {
   "cell_type": "markdown",
   "id": "2b77a0f9",
   "metadata": {},
   "source": [
    "After you execute the code, the A3 API should be running on your local port 5000, so if you head over to http://127.0.0.1:5000/ or http://localhost:5000/, you should see the message ``\"Welcome to the 'A3 API'! Possible endpoints are: '/characters', '/signup', '/login' and '/tokenuptime'\"``.\n",
    "\n",
    "From that point on, for every request that you want to make to the API, you should use the base URL: http://127.0.0.1:5000/ (or what is the same http://localhost:5000/).\n",
    "\n",
    "## 2. Dataset\n",
    "The dataset with wich the A3 API interacts includes the fields below:\n",
    "\n",
    "- **Character Name** refers to each Marvel Character's name in `str`  form\n",
    "- **Character ID** refers to each Character's unique identifier, in `str` form\n",
    "- **Total Available Events** refers to the total amount of events each character is part of, in `int` form\n",
    "- **Total Available Series** refers to the total number of series each character is part of, in `int` form\n",
    "- **Total Available Comics** refers to the total number of events each character is part of, in `int` form\n",
    "- **Price of the Most Expensive Comic** refers to the price of the most expensive comic that each character is on, in `float` form and USD value\n",
    "\n"
   ]
  },
  {
   "cell_type": "markdown",
   "id": "3e2bd6e9",
   "metadata": {},
   "source": [
    "## 3. Authentification\n",
    "To access the A3 API and simply retrieve data from it, you don't need any form of authentification.\n",
    "\n",
    "However, if you want to create new entries into the dataset or delete/change existing ones you will need to sign up and log in. The authentification schema that this API uses is an OAuth system, by which everytime that you log in, you will recieve an access token with a limited duration to work with.\n",
    "\n",
    "#### Sign Up\n",
    "\n",
    "The first time that you wish to log in, you will need to create an account (sign up) with your email and a password of your choice.\n",
    "\n",
    "This can be done by running the code following code on your Jupyter Notebook:\n",
    "> ``sign_up = requests.post(http://localhost:5000/signup , params = {\"email\": \"your@email\", \"password\": \"yourPassword\"})``\n",
    "\n",
    "#### Log In\n",
    "\n",
    "To Log In, you will use your email and password that you signed up with, and as a result you will recieve an access token, which will be different every single time that you Log In.\n",
    "\n",
    "This can be done by running the code following code on your Jupyter Notebook:\n",
    "> ``log_in = requests.get(http://localhost:5000/login , params = {\"email\": \"your@email\", \"password\": \"yourPassword\"})``\n",
    "\n",
    "The json result of this request will include the status and response as well as you access token.\n",
    "This can be accessed in similar fassion to the response by parsing 'token' as a dictionary key:\n",
    "> ``token = log_in[\"token\"]``\n",
    "\n",
    "Your token is **valid for 1 hour!**. After that, a new sign-up is required."
   ]
  },
  {
   "cell_type": "markdown",
   "id": "de82e708",
   "metadata": {},
   "source": [
    "## 4. Resources\n",
    "\n",
    "You can access 4 resources using the API:\n",
    "   > **Characters**: contains the information on several Marvel Characters and their IDs, number of comics, series and events they appear on, and the price of their most expensive comic.\n",
    "    \n",
    "   > **Sign Up**: allows you to create a user name and password, to be able to log in.\n",
    "   \n",
    "   > **Log In**: when logged in, you will recieve a token that will allow you to modify the data in the dataframe.\n",
    "   \n",
    "   > **TokenUpTime**: allows you to see your remaining uptime after log in through a token.\n",
    "   \n"
   ]
  },
  {
   "cell_type": "markdown",
   "id": "b5f18f33",
   "metadata": {},
   "source": [
    "## 5. Making Requests\n",
    "\n",
    "> Types of requests available\n",
    "\n",
    "> Format of attributes within the requests\n",
    "\n",
    "> Examples of each request\n",
    "\n",
    "The A3 API will most likely run on your local port 5000, so the basic url for your requests will be: http://localhost:5000/.\n",
    "Within this URL, you can access the 4 different resources through their different endpoints ('/characters', '/signup', '/login' and '/tokenuptime'), which will allow you to perform different requests.\n",
    "\n",
    "The basic format of any request will be: ``request.[method](url = basicURL/endpoint, params = {})`` where params corresponds to the different parameters that the request should take into account, in a dictionary format.\n",
    "\n",
    "### 5.1 Sign Up Endpoint:\n",
    "This endpoint is used to create a new account. The only action available here is a post request, wherby your chosen email and password information for the account will be stored in the API's database to recognize you when you log in.\n",
    "\n",
    "This can be done by running the following code on your Jupyter Notebook:\n",
    "> ``requests.post(\"http://localhost:5000/signup\" , params = {\"email\": \"your@email\", \"password\": \"yourPassword\"})``\n",
    "\n",
    "### 5.2 Log In Endpoint:\n",
    "This endpoint is used to log in into your existing user, to be able to manipulate the Characters dataset. The only action available here is a get request, whereby your email and password are checked, and you get an access token as a result, with validity of 1 hour.\n",
    "\n",
    "This can be done by running the following code on your Jupyter Notebook:\n",
    "> ``requests.get(\"http://localhost:5000/login\" , params = {\"email\": \"your@email\", \"password\": \"yourPassword\"})``\n",
    "\n",
    "### 5.3 Token Up Time Endpoint:\n",
    "This endpoint can be used to check the remaining uptime of your access token. The only action available here is a get request, whereby the validity of the access token that you provide is checked. You will get as a result the remaining valid time that the token has left, and once this time expires, you will be logged out of the API. \n",
    "\n",
    "This can be done by running the following code on your Jupyter Notebook:\n",
    "> ``requests.get(\"http://localhost:5000/tokenuptime\" , headers = {\"Authorization\": \"Bearer\" + \"yourToken\"})``\n",
    "\n",
    "### 5.4 Characters Endpoint:\n",
    "Within the Characters Resource, you will be able to make:\n",
    "- Get request: to retrieve data of Characters from the Dataset\n",
    "- Post request: to add data of new Marvel Characters to the Dataset\n",
    "- Delete request: to eliminate data on existing Characters from the Dataset\n",
    "\n",
    "##### Get Method:\n",
    "This method allows you to retrieve information on one or multiple Marvel characters of your choice from the Dataset using either the character's id or name. However, using both identifiers simultaneously is prohibited.\n",
    "\n",
    "This can be done by running the following code on your Jupyter Notebook:\n",
    "> ``requests.get(\"http://localhost:5000/characters\" , params = {\"character_name\": [\"Abyss\", \"3-D Man\"]})``\n",
    "\n",
    "\n",
    "##### Post Method:\n",
    "This method allows you to add one Marvel character of your choice to the Dataset. In order to do so, you must indicate the character id as parameter of the request. Other character attributes may also be included in the request's parameters, but are not necessary. On the other hand, you must indicate your access token as header in order to execute this request.\n",
    "\n",
    "This can be done by running the following code on your Jupyter Notebook:\n",
    "> ``requests.post(\"http://localhost:5000/characters\" , params = {\"character_id\": \"1009151\"}, headers ={\"Authorization\": \"Bearer\"+\"yourToken\"})``\n",
    "\n",
    "\n",
    "##### Put Method:\n",
    "This method allows you to modify the price of one or multiple characters contained in the Dataset. In order to do so, you must indicate as parameters either the character(s) name(s) or id(s), as well as the desired new price(s) and currency(ies). In order to carry out this request, you are obligated to provide your access token as header as well .  \n",
    "\n",
    "This can be done by running the following code on your Jupyter Notebook:\n",
    "> ``requests.put(\"http://localhost:5000/characters\" , params = {\"character_id\": [\"1017851\",\"1011031\"], \"new_price\":[\"3.99\", \"9.99\"], \"currency\":[\"USD\",\"USD\"]}, headers ={\"Authorization\": \"Bearer\"+\"yourToken\"})``\n",
    "\n",
    "##### Delete Method:\n",
    "This method allows you to delete one or multiple entries from the Dataset. In order to do so, all that is required is that you indicate either the id(s) or the name(s) of the character(s) you wish to remove in the parameters of your request, in addition to your given access token as header. Please note that if you use both character id and character name identifiers simultaneously, fail to indicate any parameters, or fail to indicate a header containing your access token, your request will return an error.\n",
    "\n",
    "This can be done by running the following code on your Jupyter Notebook:\n",
    "> ``requests.delete(\"http://localhost:5000/characters\" , params = {\"character_name\": [\"Agent Brand\", \"Adam Warlock\"]}, headers = {\"Authorization\": \"Bearer\" + \"yourToken\"}})``\n"
   ]
  },
  {
   "cell_type": "markdown",
   "id": "8fba72eb",
   "metadata": {},
   "source": [
    "## 6. Results\n",
    "The A3 API uses conventional HTTP response codes to indicate the success or failure of an API request. In general, codes in the range 2xx indicate success, while codes in the 4xx range indicate an error that failed given the information provided (e.g., a required parameter was omitted, a charge failed, etc.).\n",
    "\n",
    "The most common results you will get are:\n",
    "- **200:** indicates that your request was successful\n",
    "- **400:** indicates that you omitted a required parameter to perform the request or that you are giving two substitutory parameters at the same time\n",
    "- **401:** when trying to log in, indicates you are using the wrong email or password\n",
    "- **404:** indicates you are trying to interact with a Character that doesn't exist\n",
    "- **409:** indicates you are trying to add a resource (Character or email when signing up) that already exists"
   ]
  }
 ],
 "metadata": {
  "kernelspec": {
   "display_name": "Python 3 (ipykernel)",
   "language": "python",
   "name": "python3"
  },
  "language_info": {
   "codemirror_mode": {
    "name": "ipython",
    "version": 3
   },
   "file_extension": ".py",
   "mimetype": "text/x-python",
   "name": "python",
   "nbconvert_exporter": "python",
   "pygments_lexer": "ipython3",
   "version": "3.9.12"
  }
 },
 "nbformat": 4,
 "nbformat_minor": 5
}
